{
 "cells": [
  {
   "cell_type": "code",
   "execution_count": 1,
   "metadata": {},
   "outputs": [],
   "source": [
    "import pandas\n",
    "import game\n",
    "\n",
    "roster = pandas.read_excel('STATS-2018-07-21_LRGC_vs_BATH.xlsx', sheet_name='IGRF', skiprows=12)"
   ]
  },
  {
   "cell_type": "code",
   "execution_count": 2,
   "metadata": {},
   "outputs": [
    {
     "name": "stdout",
     "output_type": "stream",
     "text": [
      "['# of players', ' Skater #', ' Skater Name', 'Unnamed: 3', 'Unnamed: 4', 'Unnamed: 5', '# of players.1', 'Unnamed: 7', ' Skater #.1', ' Skater Name.1', 'Unnamed: 10', 'Unnamed: 11', 'Unnamed: 12']\n"
     ]
    }
   ],
   "source": [
    "print(list(roster.columns.values))"
   ]
  },
  {
   "cell_type": "code",
   "execution_count": 3,
   "metadata": {},
   "outputs": [
    {
     "name": "stdout",
     "output_type": "stream",
     "text": [
      "101: Van Hustling\n",
      "1487: Slaps\n",
      "1993: Wu Tang Jam\n",
      "20: Red\n",
      "207: Strayhem\n",
      "212: Beastie Noise\n",
      "23: The Dodgefather\n",
      "240: Max Voltage\n",
      "52: Rudi Roue\n",
      "53: Dr Jean Knockout\n",
      "597: Rii arrange your face\n",
      "604: Alyson Rimmer\n",
      "62: Beat-Her Parker\n",
      "747: Claire Force One\n",
      "75: DETROIT\n",
      "86: Streets of Rage\n",
      "89: Impaler Swift\n",
      "90: She'Ruthless\n",
      "9041: Savage\n",
      "94: Tropic Attack\n"
     ]
    }
   ],
   "source": [
    "for i, number in enumerate(roster[' Skater #']):\n",
    "    try:\n",
    "        print('%d: %s' % (int(number), roster[' Skater Name'][i]))\n",
    "    except:\n",
    "        break"
   ]
  },
  {
   "cell_type": "code",
   "execution_count": 4,
   "metadata": {},
   "outputs": [
    {
     "name": "stdout",
     "output_type": "stream",
     "text": [
      "0: Nicker Skidmarks\n",
      "10: Little Sister\n",
      "109: Skatelin\n",
      "1107: Skull and CrossJones\n",
      "1244: Rivzilla\n",
      "17: Conway the Barbarian\n",
      "176: Stephra Jet\n",
      "1785: Thorne Supremacy\n",
      "18: Rip Tease\n",
      "1936: Petra Bomb\n",
      "2: The Sassinator\n",
      "212: Ana Maul\n",
      "3: Trevlock Holmes\n",
      "381: Hell Cat\n",
      "41: Snowcat\n",
      "59: Guerilla WarClaire\n",
      "7: Attack-O-Belle\n",
      "727: Geordie Racer\n",
      "91: Venom\n"
     ]
    }
   ],
   "source": [
    "for i, number in enumerate(roster[' Skater #.1']):\n",
    "    try:\n",
    "        print('%d: %s' % (int(number), roster[' Skater Name.1'][i]))\n",
    "    except:\n",
    "        break"
   ]
  },
  {
   "cell_type": "code",
   "execution_count": 5,
   "metadata": {},
   "outputs": [
    {
     "name": "stdout",
     "output_type": "stream",
     "text": [
      "['H O M E    T E A M', 'Unnamed: 1', 'Unnamed: 2', 'Unnamed: 3', 'Unnamed: 4', 'Unnamed: 5', 'V I S I T I N G    T E A M', 'Unnamed: 7', 'Unnamed: 8', 'Unnamed: 9', 'Unnamed: 10', 'Unnamed: 11', 'Unnamed: 12']\n"
     ]
    }
   ],
   "source": [
    "team_details = pandas.read_excel('STATS-2018-07-21_LRGC_vs_BATH.xlsx', sheet_name='IGRF', skiprows=8)\n",
    "print(list(team_details.columns.values))"
   ]
  },
  {
   "cell_type": "code",
   "execution_count": 6,
   "metadata": {},
   "outputs": [
    {
     "name": "stdout",
     "output_type": "stream",
     "text": [
      "London Rollergirls\n",
      "Battersea Power\n"
     ]
    }
   ],
   "source": [
    "print(team_details['Unnamed: 1'][0])\n",
    "print(team_details['Unnamed: 1'][1])"
   ]
  },
  {
   "cell_type": "code",
   "execution_count": 7,
   "metadata": {},
   "outputs": [
    {
     "name": "stdout",
     "output_type": "stream",
     "text": [
      "Bath Roller Derby Girls\n",
      "Spartans\n"
     ]
    }
   ],
   "source": [
    "print(team_details['Unnamed: 8'][0])\n",
    "print(team_details['Unnamed: 8'][1])"
   ]
  },
  {
   "cell_type": "code",
   "execution_count": 9,
   "metadata": {},
   "outputs": [],
   "source": [
    "scores = pandas.read_excel('STATS-2018-07-21_LRGC_vs_BATH.xlsx', sheet_name='Score', skiprows=2)\n",
    "lineups = pandas.read_excel('STATS-2018-07-21_LRGC_vs_BATH.xlsx', sheet_name='Lineups', skiprows=2)"
   ]
  },
  {
   "cell_type": "code",
   "execution_count": 10,
   "metadata": {},
   "outputs": [
    {
     "name": "stdout",
     "output_type": "stream",
     "text": [
      "['JAM', \"Jammer's Number\", 'LOST', 'LEAD', 'CALL', 'INJ.', 'NI', 'Trip 2', ' Trip 3', 'Trip 4', 'Trip 5', 'Trip 6', 'Trip 7', 'Trip 8', 'Trip 9', 'Trip 10', 'Jam Total', 'Game Total', 'Trips', 'JAM.1', \"Jammer's Number.1\", 'LOST.1', 'LEAD.1', 'CALL.1', 'INJ..1', 'NI.1', 'Trip 2.1', ' Trip 3.1', 'Trip 4.1', 'Trip 5.1', 'Trip 6.1', 'Trip 7.1', 'Trip 8.1', 'Trip 9.1', 'Trip 10.1', 'Jam Total.1', 'Game Total.1', 'Trips.1']\n"
     ]
    }
   ],
   "source": [
    "print(list(scores.columns.values))"
   ]
  },
  {
   "cell_type": "code",
   "execution_count": 11,
   "metadata": {},
   "outputs": [
    {
     "name": "stdout",
     "output_type": "stream",
     "text": [
      "['Jam', 'noPivot', 'Jammer', 'Box', 'Unnamed: 4', 'Unnamed: 5', 'Pivot', 'Box.1', 'Unnamed: 8', 'Unnamed: 9', 'Blocker', 'Box.2', 'Unnamed: 12', 'Unnamed: 13', 'Blocker.1', 'Box.3', 'Unnamed: 16', 'Unnamed: 17', 'Blocker.2', 'Box.4', 'Unnamed: 20', 'Unnamed: 21', 'Unnamed: 22', 'Team Roster', 'Unnamed: 24', 'Unnamed: 25', 'Jam.1', 'noPivot.1', 'Jammer.1', 'Box.5', 'Unnamed: 30', 'Unnamed: 31', 'Pivot.1', 'Box.6', 'Unnamed: 34', 'Unnamed: 35', 'Blocker.3', 'Box.7', 'Unnamed: 38', 'Unnamed: 39', 'Blocker.4', 'Box.8', 'Unnamed: 42', 'Unnamed: 43', 'Blocker.5', 'Box.9', 'Unnamed: 46', 'Unnamed: 47', 'Unnamed: 48', 'Team Roster.1', 'Unnamed: 50', 'Unnamed: 51']\n"
     ]
    }
   ],
   "source": [
    "print(list(lineups.columns.values))"
   ]
  },
  {
   "cell_type": "code",
   "execution_count": 13,
   "metadata": {},
   "outputs": [
    {
     "name": "stdout",
     "output_type": "stream",
     "text": [
      "Jam 1: 101\n",
      "Jam 2: 604\n",
      "Jam 3: 52\n",
      "Jam 4: 101\n",
      "Jam 5: 604\n",
      "Jam 6: 9041\n",
      "Jam 7: 101\n",
      "Jam 8: 604\n",
      "Jam 9: 62\n",
      "Jam 10: 101\n",
      "Jam 11: 604\n",
      "Jam 12: 101\n",
      "Jam 13: 52\n",
      "Jam 14: 604\n",
      "Jam 15: 101\n",
      "Jam 16: 62\n",
      "Jam 17: 604\n",
      "Jam 18: 52\n",
      "Jam 19: 101\n",
      "Jam 20: 604\n",
      "Jam 21: 62\n"
     ]
    }
   ],
   "source": [
    "for i, number in enumerate(lineups['Jam']):\n",
    "    try:\n",
    "        print('Jam %d: %s' % (int(number), lineups['Jammer'][i]))\n",
    "    except:\n",
    "        break"
   ]
  },
  {
   "cell_type": "code",
   "execution_count": null,
   "metadata": {},
   "outputs": [],
   "source": []
  }
 ],
 "metadata": {
  "kernelspec": {
   "display_name": "Python 3",
   "language": "python",
   "name": "python3"
  },
  "language_info": {
   "codemirror_mode": {
    "name": "ipython",
    "version": 3
   },
   "file_extension": ".py",
   "mimetype": "text/x-python",
   "name": "python",
   "nbconvert_exporter": "python",
   "pygments_lexer": "ipython3",
   "version": "3.7.2"
  }
 },
 "nbformat": 4,
 "nbformat_minor": 2
}
